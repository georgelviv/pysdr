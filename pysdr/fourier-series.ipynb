{
 "cells": [
  {
   "cell_type": "markdown",
   "metadata": {},
   "source": [
    "# Fourier Series\n",
    "\n",
    "https://www.educative.io/answers/how-to-implement-fourier-series-in-python"
   ]
  },
  {
   "cell_type": "code",
   "execution_count": 53,
   "metadata": {},
   "outputs": [
    {
     "data": {
      "application/vnd.jupyter.widget-view+json": {
       "model_id": "82806a935a7b410394c12a72da658ed4",
       "version_major": 2,
       "version_minor": 0
      },
      "text/plain": [
       "interactive(children=(IntSlider(value=10, description='N', max=50, min=2), Output()), _dom_classes=('widget-in…"
      ]
     },
     "metadata": {},
     "output_type": "display_data"
    },
    {
     "data": {
      "text/plain": [
       "<function __main__.plot_square_wave(n)>"
      ]
     },
     "execution_count": 53,
     "metadata": {},
     "output_type": "execute_result"
    }
   ],
   "source": [
    "import numpy as np\n",
    "from scipy.signal import square\n",
    "from scipy.integrate import quad\n",
    "from math import cos, sin\n",
    "import matplotlib.pyplot as plt\n",
    "from ipywidgets import IntSlider, interact\n",
    "\n",
    "def plot_square_wave(n):\n",
    "  duration = 2\n",
    "  sampling_rate = 1000\n",
    "  x = np.arange(0, 2 * np.pi * duration, duration / sampling_rate)\n",
    "  y = square(x)\n",
    "\n",
    "  fc = lambda x:square(x) * cos(i * x)\n",
    "  fs = lambda x:square(x) * sin(i * x)\n",
    "\n",
    "  An = []\n",
    "  Bn = []\n",
    "  sum = 0\n",
    "\n",
    "  for i in range(n):\n",
    "    an = quad(fc, -np.pi, np.pi)[0] * (1.0 / np.pi)\n",
    "    An.append(an)\n",
    "\n",
    "    bn = quad(fs, -np.pi, np.pi)[0] * (1.0 / np.pi)\n",
    "    Bn.append(bn)\n",
    "\n",
    "  for i in range(n):\n",
    "    if i == 0.0:\n",
    "      sum = sum + An[i] / 2\n",
    "    else:\n",
    "      sum = sum + (An[i] * np.cos(i * x) + Bn[i] * np.sin(i * x))\n",
    "\n",
    "  figure, axis = plt.subplots(2, figsize=(12, 6))\n",
    "  axis[0].plot(x, y)\n",
    "  axis[0].set_xticks([])\n",
    "  axis[1].plot(x, sum)\n",
    "  plt.show()\n",
    "\n",
    "n_slider = IntSlider(value=10, min=2, max=50, step=1, description='N')\n",
    "interact(plot_square_wave, n=n_slider)"
   ]
  }
 ],
 "metadata": {
  "kernelspec": {
   "display_name": ".venv",
   "language": "python",
   "name": "python3"
  },
  "language_info": {
   "codemirror_mode": {
    "name": "ipython",
    "version": 3
   },
   "file_extension": ".py",
   "mimetype": "text/x-python",
   "name": "python",
   "nbconvert_exporter": "python",
   "pygments_lexer": "ipython3",
   "version": "3.12.3"
  }
 },
 "nbformat": 4,
 "nbformat_minor": 2
}
