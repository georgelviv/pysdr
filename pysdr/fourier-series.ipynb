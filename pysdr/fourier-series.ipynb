{
 "cells": [
  {
   "cell_type": "markdown",
   "metadata": {},
   "source": [
    "# Fourier Series\n",
    "\n",
    "https://www.educative.io/answers/how-to-implement-fourier-series-in-python"
   ]
  },
  {
   "cell_type": "code",
   "execution_count": 63,
   "metadata": {},
   "outputs": [],
   "source": [
    "import numpy as np\n",
    "from scipy.integrate import quad\n",
    "from math import cos, sin\n",
    "import matplotlib.pyplot as plt\n",
    "from ipywidgets import IntSlider, interact\n",
    "\n",
    "duration = 2\n",
    "sampling_rate = 1000\n",
    "t = np.arange(0, 2 * np.pi * duration, duration / sampling_rate)\n",
    "\n",
    "def fourier_series(n, fc, fs, t):\n",
    "  An = []\n",
    "  Bn = []\n",
    "  sum = 0\n",
    "\n",
    "  for i in range(n):\n",
    "    an = quad(fc(i), -np.pi, np.pi)[0] * (1.0 / np.pi)\n",
    "    An.append(an)\n",
    "\n",
    "    bn = quad(fs(i), -np.pi, np.pi)[0] * (1.0 / np.pi)\n",
    "    Bn.append(bn)\n",
    "  for i in range(n):\n",
    "    if i == 0.0:\n",
    "      sum = sum + An[i] / 2\n",
    "    else:\n",
    "      sum = sum + (An[i] * np.cos(i * t) + Bn[i] * np.sin(i * t))\n",
    "\n",
    "  return sum"
   ]
  },
  {
   "cell_type": "markdown",
   "metadata": {},
   "source": [
    "## Square wave"
   ]
  },
  {
   "cell_type": "code",
   "execution_count": 65,
   "metadata": {},
   "outputs": [
    {
     "data": {
      "application/vnd.jupyter.widget-view+json": {
       "model_id": "b85de5c809b34ed086426c3a6187f60f",
       "version_major": 2,
       "version_minor": 0
      },
      "text/plain": [
       "interactive(children=(IntSlider(value=10, description='N', max=50, min=2), Output()), _dom_classes=('widget-in…"
      ]
     },
     "metadata": {},
     "output_type": "display_data"
    },
    {
     "data": {
      "text/plain": [
       "<function __main__.plot_square_wave(n)>"
      ]
     },
     "execution_count": 65,
     "metadata": {},
     "output_type": "execute_result"
    }
   ],
   "source": [
    "from scipy.signal import square\n",
    "\n",
    "def plot_square_wave(n):\n",
    "  y = square(t)\n",
    "\n",
    "  def fc(i):\n",
    "    return lambda x:square(x) * cos(i * x)\n",
    "  \n",
    "  def fs(i):\n",
    "    return lambda x:square(x) * sin(i * x)\n",
    "\n",
    "  f = fourier_series(n, fc, fs, t)\n",
    "\n",
    "  figure, axis = plt.subplots(2, figsize=(12, 6))\n",
    "  axis[0].plot(t, y)\n",
    "  axis[0].set_xticks([])\n",
    "  axis[1].plot(t, f)\n",
    "  plt.show()\n",
    "\n",
    "n_slider = IntSlider(value=10, min=2, max=50, step=1, description='N')\n",
    "interact(plot_square_wave, n=n_slider)"
   ]
  },
  {
   "cell_type": "markdown",
   "metadata": {},
   "source": [
    "## Sawtooth wave"
   ]
  },
  {
   "cell_type": "code",
   "execution_count": 67,
   "metadata": {},
   "outputs": [
    {
     "data": {
      "application/vnd.jupyter.widget-view+json": {
       "model_id": "6df8547c7ec6439abad1b665c51d01e8",
       "version_major": 2,
       "version_minor": 0
      },
      "text/plain": [
       "interactive(children=(IntSlider(value=10, description='N', max=50, min=2), Output()), _dom_classes=('widget-in…"
      ]
     },
     "metadata": {},
     "output_type": "display_data"
    },
    {
     "data": {
      "text/plain": [
       "<function __main__.plot_sawtooth_wave(n)>"
      ]
     },
     "execution_count": 67,
     "metadata": {},
     "output_type": "execute_result"
    }
   ],
   "source": [
    "from scipy.signal import sawtooth\n",
    "\n",
    "def plot_sawtooth_wave(n):\n",
    "  y = sawtooth(t)\n",
    "\n",
    "  def fc(i):\n",
    "    return lambda x:sawtooth(x) * cos(i * x)\n",
    "  \n",
    "  def fs(i):\n",
    "    return lambda x:sawtooth(x) * sin(i * x)\n",
    "\n",
    "  f = fourier_series(n, fc, fs, t)\n",
    "\n",
    "  figure, axis = plt.subplots(2, figsize=(12, 6))\n",
    "  axis[0].plot(t, y)\n",
    "  axis[0].set_xticks([])\n",
    "  axis[1].plot(t, f)\n",
    "  plt.show()\n",
    "\n",
    "n_slider = IntSlider(value=10, min=2, max=50, step=1, description='N')\n",
    "interact(plot_sawtooth_wave, n=n_slider)"
   ]
  }
 ],
 "metadata": {
  "kernelspec": {
   "display_name": ".venv",
   "language": "python",
   "name": "python3"
  },
  "language_info": {
   "codemirror_mode": {
    "name": "ipython",
    "version": 3
   },
   "file_extension": ".py",
   "mimetype": "text/x-python",
   "name": "python",
   "nbconvert_exporter": "python",
   "pygments_lexer": "ipython3",
   "version": "3.12.3"
  }
 },
 "nbformat": 4,
 "nbformat_minor": 2
}
