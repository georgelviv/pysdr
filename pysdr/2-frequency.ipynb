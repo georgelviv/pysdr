{
 "cells": [
  {
   "cell_type": "markdown",
   "metadata": {},
   "source": [
    "# Frequency Domain\n",
    "\n",
    "https://pysdr.org/content/frequency_domain.html#\n"
   ]
  },
  {
   "cell_type": "markdown",
   "metadata": {},
   "source": [
    "TODO\n",
    "https://ipywidgets.readthedocs.io/en/stable/examples/Widget%20Styling.html"
   ]
  },
  {
   "cell_type": "markdown",
   "metadata": {},
   "source": [
    "## Sin wave"
   ]
  },
  {
   "cell_type": "code",
   "execution_count": 35,
   "metadata": {},
   "outputs": [],
   "source": [
    "import numpy as np\n",
    "import matplotlib.pyplot as plt\n",
    "from ipywidgets import FloatSlider, interact\n",
    "\n",
    "duration = 5\n",
    "sampling_rate = 1e6\n",
    "\n",
    "t = np.linspace(0, duration, int(duration * sampling_rate))\n",
    "\n",
    "def get_x(f):\n",
    "  f = f * 1e6\n",
    "  return np.sin(2 * np.pi * f * t / sampling_rate)\n",
    "\n",
    "def get_frequency_slider(d):\n",
    "  return FloatSlider(value=1, min=1, max=10, step=0.5, description=d, readout_format='.1f',)\n"
   ]
  },
  {
   "cell_type": "code",
   "execution_count": 36,
   "metadata": {},
   "outputs": [
    {
     "data": {
      "application/vnd.jupyter.widget-view+json": {
       "model_id": "3886e2b9d4a941d4ae92df3c79982f72",
       "version_major": 2,
       "version_minor": 0
      },
      "text/plain": [
       "interactive(children=(FloatSlider(value=1.0, description='Frequency Mhz', max=10.0, min=1.0, readout_format='.…"
      ]
     },
     "metadata": {},
     "output_type": "display_data"
    },
    {
     "data": {
      "text/plain": [
       "<function __main__.plot_sin_wave(frequency)>"
      ]
     },
     "execution_count": 36,
     "metadata": {},
     "output_type": "execute_result"
    }
   ],
   "source": [
    "def plot_sin_wave(frequency):\n",
    "  plt.plot(t, get_x(frequency))\n",
    "  plt.show()\n",
    "\n",
    "frequency_slider = get_frequency_slider('Frequency Mhz')\n",
    "\n",
    "interact(plot_sin_wave, frequency=frequency_slider)"
   ]
  },
  {
   "cell_type": "markdown",
   "metadata": {},
   "source": [
    "## Linear property"
   ]
  },
  {
   "cell_type": "code",
   "execution_count": 40,
   "metadata": {},
   "outputs": [
    {
     "data": {
      "application/vnd.jupyter.widget-view+json": {
       "model_id": "7a89d7df3f2e4d04a553a5442767c114",
       "version_major": 2,
       "version_minor": 0
      },
      "text/plain": [
       "interactive(children=(FloatSlider(value=1.0, description='F1', max=10.0, min=1.0, readout_format='.1f', step=0…"
      ]
     },
     "metadata": {},
     "output_type": "display_data"
    },
    {
     "data": {
      "text/plain": [
       "<function __main__.plot_linear_property(f1, f2)>"
      ]
     },
     "execution_count": 40,
     "metadata": {},
     "output_type": "execute_result"
    }
   ],
   "source": [
    "def plot_linear_property(f1, f2):\n",
    "  figure, axis = plt.subplots(3, 1)\n",
    "  axis[0].plot(t, get_x(f1))\n",
    "  axis[1].plot(t, get_x(f2))\n",
    "  axis[2].plot(t, get_x(f1) + get_x(f2))\n",
    "  plt.show()\n",
    "\n",
    "\n",
    "f1_slider = get_frequency_slider('F1')\n",
    "f2_slider = get_frequency_slider('F2')\n",
    "\n",
    "interact(plot_linear_property, f1=f1_slider, f2=f2_slider)"
   ]
  },
  {
   "cell_type": "markdown",
   "metadata": {},
   "source": [
    "## Frequency Shift Property"
   ]
  },
  {
   "cell_type": "code",
   "execution_count": 43,
   "metadata": {},
   "outputs": [
    {
     "data": {
      "application/vnd.jupyter.widget-view+json": {
       "model_id": "225c55edea974e7598f17f88cbe3ba15",
       "version_major": 2,
       "version_minor": 0
      },
      "text/plain": [
       "interactive(children=(FloatSlider(value=1.0, description='Frequency', max=10.0, min=1.0, readout_format='.1f',…"
      ]
     },
     "metadata": {},
     "output_type": "display_data"
    },
    {
     "data": {
      "text/plain": [
       "<function __main__.plot_frequency_shift_property(frequency, f_shift)>"
      ]
     },
     "execution_count": 43,
     "metadata": {},
     "output_type": "execute_result"
    }
   ],
   "source": [
    "def plot_frequency_shift_property(frequency, f_shift):\n",
    "  figure, axis = plt.subplots(3, 1)\n",
    "  axis[0].plot(t, get_x(frequency))\n",
    "  axis[1].plot(t, get_x(frequency - f_shift * 1e6))\n",
    "  axis[2].plot(t, get_x(frequency + f_shift * 1e6))\n",
    "  plt.show()\n",
    "\n",
    "\n",
    "frequency_slider = get_frequency_slider('Frequency')\n",
    "f_shift_slider = get_frequency_slider('Shift')\n",
    "\n",
    "interact(plot_frequency_shift_property, frequency=frequency_slider, f_shift=f_shift_slider)"
   ]
  },
  {
   "cell_type": "markdown",
   "metadata": {},
   "source": [
    "## Scaling in Time Property"
   ]
  },
  {
   "cell_type": "code",
   "execution_count": 48,
   "metadata": {},
   "outputs": [
    {
     "data": {
      "application/vnd.jupyter.widget-view+json": {
       "model_id": "265ee0fad5ff4d97bbcae73959069292",
       "version_major": 2,
       "version_minor": 0
      },
      "text/plain": [
       "interactive(children=(FloatSlider(value=1.0, description='Frequency', max=10.0, min=1.0, readout_format='.1f',…"
      ]
     },
     "metadata": {},
     "output_type": "display_data"
    },
    {
     "data": {
      "text/plain": [
       "<function __main__.plot_scaling_in_time_property(frequency, scale_f)>"
      ]
     },
     "execution_count": 48,
     "metadata": {},
     "output_type": "execute_result"
    }
   ],
   "source": [
    "def plot_scaling_in_time_property(frequency, scale_f):\n",
    "  figure, axis = plt.subplots(2, 1)\n",
    "  axis[0].plot(t, get_x(frequency))\n",
    "  axis[1].plot(t, get_x(frequency / scale_f) * (1 / scale_f))\n",
    "  plt.show()\n",
    "\n",
    "\n",
    "frequency_slider = get_frequency_slider('Frequency')\n",
    "scale_slider = get_frequency_slider('Scale')\n",
    "\n",
    "interact(plot_scaling_in_time_property, frequency=frequency_slider, scale_f=scale_slider)"
   ]
  },
  {
   "cell_type": "markdown",
   "metadata": {},
   "source": [
    "## Convolution in Time Property"
   ]
  },
  {
   "cell_type": "code",
   "execution_count": 49,
   "metadata": {},
   "outputs": [
    {
     "data": {
      "application/vnd.jupyter.widget-view+json": {
       "model_id": "748353ceeb304df58ce104a7a277bf24",
       "version_major": 2,
       "version_minor": 0
      },
      "text/plain": [
       "interactive(children=(FloatSlider(value=1.0, description='F1', max=10.0, min=1.0, readout_format='.1f', step=0…"
      ]
     },
     "metadata": {},
     "output_type": "display_data"
    },
    {
     "data": {
      "text/plain": [
       "<function __main__.plot_convolution_in_time_property(f1, f2)>"
      ]
     },
     "execution_count": 49,
     "metadata": {},
     "output_type": "execute_result"
    }
   ],
   "source": [
    "def plot_convolution_in_time_property(f1, f2):\n",
    "  figure, axis = plt.subplots(2, 1)\n",
    "  axis[0].plot(t, get_x(f1))\n",
    "  axis[1].plot(t, get_x(f1) * get_x(f2))\n",
    "  plt.show()\n",
    "\n",
    "\n",
    "f1_slider = get_frequency_slider('F1')\n",
    "f2_slider = get_frequency_slider('F2')\n",
    "\n",
    "interact(plot_convolution_in_time_property, f1=f1_slider, f2=f2_slider)\n"
   ]
  }
 ],
 "metadata": {
  "kernelspec": {
   "display_name": ".venv",
   "language": "python",
   "name": "python3"
  },
  "language_info": {
   "codemirror_mode": {
    "name": "ipython",
    "version": 3
   },
   "file_extension": ".py",
   "mimetype": "text/x-python",
   "name": "python",
   "nbconvert_exporter": "python",
   "pygments_lexer": "ipython3",
   "version": "3.12.3"
  }
 },
 "nbformat": 4,
 "nbformat_minor": 2
}
