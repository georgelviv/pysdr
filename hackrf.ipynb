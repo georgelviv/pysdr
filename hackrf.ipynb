{
 "cells": [
  {
   "cell_type": "markdown",
   "metadata": {},
   "source": [
    "# HackRF Commands"
   ]
  },
  {
   "cell_type": "code",
   "execution_count": 1,
   "metadata": {},
   "outputs": [
    {
     "name": "stdout",
     "output_type": "stream",
     "text": [
      "hackrf_info version: 2024.02.1\n",
      "libhackrf version: 2024.02.1 (0.9)\n",
      "No HackRF boards found.\n"
     ]
    }
   ],
   "source": [
    "!hackrf_info"
   ]
  },
  {
   "cell_type": "code",
   "execution_count": 2,
   "metadata": {},
   "outputs": [
    {
     "data": {
      "text/plain": [
       "['hackrf_open() failed: HackRF not found (-5)',\n",
       " 'Usage:',\n",
       " '\\t-h # this help',\n",
       " '\\t[-d serial_number] # Serial number of desired HackRF.',\n",
       " \"\\t-r <filename> # Receive data into file (use '-' for stdout).\",\n",
       " \"\\t-t <filename> # Transmit data from file (use '-' for stdin).\",\n",
       " '\\t-w # Receive data into file with WAV header and automatic name.',\n",
       " '\\t   # This is for SDR# compatibility and may not work with other software.',\n",
       " '\\t[-f freq_hz] # Frequency in Hz [1MHz to 6000MHz supported, 0MHz to 7250MHz forceable].',\n",
       " '\\t[-i if_freq_hz] # Intermediate Frequency (IF) in Hz [2170MHz to 2740MHz supported, 2000MHz to 3000MHz forceable].',\n",
       " '\\t[-o lo_freq_hz] # Front-end Local Oscillator (LO) frequency in Hz [84MHz to 5400MHz].',\n",
       " '\\t[-m image_reject] # Image rejection filter selection, 0=bypass, 1=low pass, 2=high pass.',\n",
       " '\\t[-a amp_enable] # RX/TX RF amplifier 1=Enable, 0=Disable.',\n",
       " '\\t[-p antenna_enable] # Antenna port power, 1=Enable, 0=Disable.',\n",
       " '\\t[-l gain_db] # RX LNA (IF) gain, 0-40dB, 8dB steps',\n",
       " '\\t[-g gain_db] # RX VGA (baseband) gain, 0-62dB, 2dB steps',\n",
       " '\\t[-x gain_db] # TX VGA (IF) gain, 0-47dB, 1dB steps',\n",
       " '\\t[-s sample_rate_hz] # Sample rate in Hz (2-20MHz supported, default 10MHz).',\n",
       " '\\t[-F force] # Force use of parameters outside supported ranges.',\n",
       " '\\t[-n num_samples] # Number of samples to transfer (default is unlimited).',\n",
       " '\\t[-S buf_size] # Enable receive streaming with buffer size buf_size.',\n",
       " '\\t[-B] # Print buffer statistics during transfer',\n",
       " '\\t[-c amplitude] # CW signal source mode, amplitude 0-127 (DC value to DAC).',\n",
       " '\\t[-R] # Repeat TX mode (default is off) ',\n",
       " '\\t[-b baseband_filter_bw_hz] # Set baseband filter bandwidth in Hz.',\n",
       " '\\tPossible values: 1.75/2.5/3.5/5/5.5/6/7/8/9/10/12/14/15/20/24/28MHz, default <= 0.75 * sample_rate_hz.',\n",
       " '\\t[-C ppm] # Set Internal crystal clock error in ppm.',\n",
       " '\\t[-H] # Synchronize RX/TX to external trigger input.']"
      ]
     },
     "execution_count": 2,
     "metadata": {},
     "output_type": "execute_result"
    }
   ],
   "source": [
    "!!hackrf_transfer -d 0000000000000000f77c60dc292134c3 -r -"
   ]
  },
  {
   "cell_type": "code",
   "execution_count": 3,
   "metadata": {},
   "outputs": [
    {
     "name": "stdout",
     "output_type": "stream",
     "text": [
      "hackrf_open() failed: HackRF not found (-5)\n",
      "Usage:\n",
      "\t-h # this help\n",
      "\t[-d serial_number] # Serial number of desired HackRF.\n",
      "\t-r <filename> # Receive data into file (use '-' for stdout).\n",
      "\t-t <filename> # Transmit data from file (use '-' for stdin).\n",
      "\t-w # Receive data into file with WAV header and automatic name.\n",
      "\t   # This is for SDR# compatibility and may not work with other software.\n",
      "\t[-f freq_hz] # Frequency in Hz [1MHz to 6000MHz supported, 0MHz to 7250MHz forceable].\n",
      "\t[-i if_freq_hz] # Intermediate Frequency (IF) in Hz [2170MHz to 2740MHz supported, 2000MHz to 3000MHz forceable].\n",
      "\t[-o lo_freq_hz] # Front-end Local Oscillator (LO) frequency in Hz [84MHz to 5400MHz].\n",
      "\t[-m image_reject] # Image rejection filter selection, 0=bypass, 1=low pass, 2=high pass.\n",
      "\t[-a amp_enable] # RX/TX RF amplifier 1=Enable, 0=Disable.\n",
      "\t[-p antenna_enable] # Antenna port power, 1=Enable, 0=Disable.\n",
      "\t[-l gain_db] # RX LNA (IF) gain, 0-40dB, 8dB steps\n",
      "\t[-g gain_db] # RX VGA (baseband) gain, 0-62dB, 2dB steps\n",
      "\t[-x gain_db] # TX VGA (IF) gain, 0-47dB, 1dB steps\n",
      "\t[-s sample_rate_hz] # Sample rate in Hz (2-20MHz supported, default 10MHz).\n",
      "\t[-F force] # Force use of parameters outside supported ranges.\n",
      "\t[-n num_samples] # Number of samples to transfer (default is unlimited).\n",
      "\t[-S buf_size] # Enable receive streaming with buffer size buf_size.\n",
      "\t[-B] # Print buffer statistics during transfer\n",
      "\t[-c amplitude] # CW signal source mode, amplitude 0-127 (DC value to DAC).\n",
      "\t[-R] # Repeat TX mode (default is off) \n",
      "\t[-b baseband_filter_bw_hz] # Set baseband filter bandwidth in Hz.\n",
      "\tPossible values: 1.75/2.5/3.5/5/5.5/6/7/8/9/10/12/14/15/20/24/28MHz, default <= 0.75 * sample_rate_hz.\n",
      "\t[-C ppm] # Set Internal crystal clock error in ppm.\n",
      "\t[-H] # Synchronize RX/TX to external trigger input.\n"
     ]
    }
   ],
   "source": [
    "!hackrf_transfer -d 0000000000000000f77c60dc292134c3 -r test"
   ]
  },
  {
   "cell_type": "code",
   "execution_count": 4,
   "metadata": {},
   "outputs": [
    {
     "name": "stdout",
     "output_type": "stream",
     "text": [
      "hackrf_open() failed: HackRF not found (-5)\n",
      "Usage:\n",
      "\t[-h] # this help\n",
      "\t[-d serial_number] # Serial number of desired HackRF\n",
      "\t[-a amp_enable] # RX RF amplifier 1=Enable, 0=Disable\n",
      "\t[-f freq_min:freq_max] # minimum and maximum frequencies in MHz\n",
      "\t[-p antenna_enable] # Antenna port power, 1=Enable, 0=Disable\n",
      "\t[-l gain_db] # RX LNA (IF) gain, 0-40dB, 8dB steps\n",
      "\t[-g gain_db] # RX VGA (baseband) gain, 0-62dB, 2dB steps\n",
      "\t[-w bin_width] # FFT bin width (frequency resolution) in Hz, 2445-5000000\n",
      "\t[-W wisdom_file] # Use FFTW wisdom file (will be created if necessary)\n",
      "\t[-P estimate|measure|patient|exhaustive] # FFTW plan type, default is 'measure'\n",
      "\t[-1] # one shot mode\n",
      "\t[-N num_sweeps] # Number of sweeps to perform\n",
      "\t[-B] # binary output\n",
      "\t[-I] # binary inverse FFT output\n",
      "\t[-n] # keep the same timestamp within a sweep\n",
      "\t-r filename # output file\n",
      "\n",
      "Output fields:\n",
      "\tdate, time, hz_low, hz_high, hz_bin_width, num_samples, dB, dB, . . .\n"
     ]
    }
   ],
   "source": [
    "!hackrf_sweep -f 88:108"
   ]
  },
  {
   "cell_type": "code",
   "execution_count": 5,
   "metadata": {},
   "outputs": [
    {
     "name": "stdout",
     "output_type": "stream",
     "text": [
      "hackrf_open() failed: HackRF not found (-5)\n",
      "Usage:\n",
      "\t[-h] # this help\n",
      "\t[-d serial_number] # Serial number of desired HackRF\n",
      "\t[-a amp_enable] # RX RF amplifier 1=Enable, 0=Disable\n",
      "\t[-f freq_min:freq_max] # minimum and maximum frequencies in MHz\n",
      "\t[-p antenna_enable] # Antenna port power, 1=Enable, 0=Disable\n",
      "\t[-l gain_db] # RX LNA (IF) gain, 0-40dB, 8dB steps\n",
      "\t[-g gain_db] # RX VGA (baseband) gain, 0-62dB, 2dB steps\n",
      "\t[-w bin_width] # FFT bin width (frequency resolution) in Hz, 2445-5000000\n",
      "\t[-W wisdom_file] # Use FFTW wisdom file (will be created if necessary)\n",
      "\t[-P estimate|measure|patient|exhaustive] # FFTW plan type, default is 'measure'\n",
      "\t[-1] # one shot mode\n",
      "\t[-N num_sweeps] # Number of sweeps to perform\n",
      "\t[-B] # binary output\n",
      "\t[-I] # binary inverse FFT output\n",
      "\t[-n] # keep the same timestamp within a sweep\n",
      "\t-r filename # output file\n",
      "\n",
      "Output fields:\n",
      "\tdate, time, hz_low, hz_high, hz_bin_width, num_samples, dB, dB, . . .\n"
     ]
    }
   ],
   "source": [
    "!hackrf_sweep -f 90:105 -N 1 -w 100000 -r test.csv"
   ]
  },
  {
   "cell_type": "code",
   "execution_count": 16,
   "metadata": {},
   "outputs": [],
   "source": [
    "import pandas as pd\n",
    "import numpy as np\n",
    "\n",
    "\n",
    "def parse_csv(csv_path):\n",
    "  raw = open(csv_path)\n",
    "  data = []\n",
    "  for i in raw:\n",
    "    raw_row = i.split(',')\n",
    "    date = raw_row[0].strip()\n",
    "    time = raw_row[1].strip()\n",
    "    hzLow = float(raw_row[2].strip())\n",
    "    hzHigh = float(raw_row[3].strip())\n",
    "    hzBinWidth = float(raw_row[4].strip())\n",
    "    numSamples = raw_row[5].strip()\n",
    "    db_list = list(map(lambda x: float(x), raw_row[6:]))\n",
    "\n",
    "    for j in range(len(db_list)):\n",
    "      frequency = hzLow + hzBinWidth * j\n",
    "\n",
    "      row  = {\n",
    "        'Date': date,\n",
    "        'Time': time,\n",
    "        'Frequency': frequency,\n",
    "        'db': db_list[j]\n",
    "      }\n",
    "      data.append(row)\n",
    "\n",
    "  return data\n"
   ]
  },
  {
   "cell_type": "code",
   "execution_count": 22,
   "metadata": {},
   "outputs": [
    {
     "data": {
      "text/html": [
       "<div>\n",
       "<style scoped>\n",
       "    .dataframe tbody tr th:only-of-type {\n",
       "        vertical-align: middle;\n",
       "    }\n",
       "\n",
       "    .dataframe tbody tr th {\n",
       "        vertical-align: top;\n",
       "    }\n",
       "\n",
       "    .dataframe thead th {\n",
       "        text-align: right;\n",
       "    }\n",
       "</style>\n",
       "<table border=\"1\" class=\"dataframe\">\n",
       "  <thead>\n",
       "    <tr style=\"text-align: right;\">\n",
       "      <th></th>\n",
       "      <th>Date</th>\n",
       "      <th>Time</th>\n",
       "      <th>Frequency</th>\n",
       "      <th>db</th>\n",
       "    </tr>\n",
       "  </thead>\n",
       "  <tbody>\n",
       "    <tr>\n",
       "      <th>0</th>\n",
       "      <td>2024-07-30</td>\n",
       "      <td>16:39:12.664850</td>\n",
       "      <td>90000000.00</td>\n",
       "      <td>-83.75</td>\n",
       "    </tr>\n",
       "    <tr>\n",
       "      <th>1</th>\n",
       "      <td>2024-07-30</td>\n",
       "      <td>16:39:12.664850</td>\n",
       "      <td>90098039.22</td>\n",
       "      <td>-69.61</td>\n",
       "    </tr>\n",
       "    <tr>\n",
       "      <th>2</th>\n",
       "      <td>2024-07-30</td>\n",
       "      <td>16:39:12.664850</td>\n",
       "      <td>90196078.44</td>\n",
       "      <td>-65.28</td>\n",
       "    </tr>\n",
       "    <tr>\n",
       "      <th>3</th>\n",
       "      <td>2024-07-30</td>\n",
       "      <td>16:39:12.664850</td>\n",
       "      <td>90294117.66</td>\n",
       "      <td>-66.40</td>\n",
       "    </tr>\n",
       "    <tr>\n",
       "      <th>4</th>\n",
       "      <td>2024-07-30</td>\n",
       "      <td>16:39:12.664850</td>\n",
       "      <td>90392156.88</td>\n",
       "      <td>-70.83</td>\n",
       "    </tr>\n",
       "  </tbody>\n",
       "</table>\n",
       "</div>"
      ],
      "text/plain": [
       "         Date             Time    Frequency     db\n",
       "0  2024-07-30  16:39:12.664850  90000000.00 -83.75\n",
       "1  2024-07-30  16:39:12.664850  90098039.22 -69.61\n",
       "2  2024-07-30  16:39:12.664850  90196078.44 -65.28\n",
       "3  2024-07-30  16:39:12.664850  90294117.66 -66.40\n",
       "4  2024-07-30  16:39:12.664850  90392156.88 -70.83"
      ]
     },
     "execution_count": 22,
     "metadata": {},
     "output_type": "execute_result"
    }
   ],
   "source": [
    "data = parse_csv('./test.csv')\n",
    "df = pd.DataFrame(data)\n",
    "df = df.sort_values(by='Frequency')\n",
    "df.head()\n"
   ]
  },
  {
   "cell_type": "code",
   "execution_count": 23,
   "metadata": {},
   "outputs": [],
   "source": [
    "df.to_csv('output.csv')"
   ]
  },
  {
   "cell_type": "code",
   "execution_count": 24,
   "metadata": {},
   "outputs": [
    {
     "data": {
      "text/plain": [
       "<Axes: xlabel='Frequency'>"
      ]
     },
     "execution_count": 24,
     "metadata": {},
     "output_type": "execute_result"
    },
    {
     "data": {
      "image/png": "[encoded data removed]",
      "text/plain": [
       "<Figure size 640x480 with 1 Axes>"
      ]
     },
     "metadata": {},
     "output_type": "display_data"
    }
   ],
   "source": [
    "df.plot(x = 'Frequency', y = 'db')"
   ]
  }
 ],
 "metadata": {
  "kernelspec": {
   "display_name": ".venv",
   "language": "python",
   "name": "python3"
  },
  "language_info": {
   "codemirror_mode": {
    "name": "ipython",
    "version": 3
   },
   "file_extension": ".py",
   "mimetype": "text/x-python",
   "name": "python",
   "nbconvert_exporter": "python",
   "pygments_lexer": "ipython3",
   "version": "3.12.3"
  }
 },
 "nbformat": 4,
 "nbformat_minor": 2
}
