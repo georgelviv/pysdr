{
 "cells": [
  {
   "cell_type": "markdown",
   "metadata": {},
   "source": [
    "# HackRF\n",
    "\n",
    "https://hackrf.readthedocs.io/en/latest/hackrf_tools.html"
   ]
  },
  {
   "cell_type": "code",
   "execution_count": 1,
   "metadata": {},
   "outputs": [
    {
     "name": "stdout",
     "output_type": "stream",
     "text": [
      "hackrf_info version: 2024.02.1\n",
      "libhackrf version: 2024.02.1 (0.9)\n",
      "Found HackRF\n",
      "Index: 0\n",
      "Serial number: 0000000000000000f77c60dc292134c3\n",
      "Board ID Number: 2 (HackRF One)\n",
      "Firmware Version: 2024.02.1 (API:1.08)\n",
      "Part ID Number: 0xa000cb3c 0x00614758\n",
      "Hardware Revision: older than r6\n",
      "Hardware supported by installed firmware:\n",
      "    HackRF One\n"
     ]
    }
   ],
   "source": [
    "!hackrf_info"
   ]
  },
  {
   "cell_type": "code",
   "execution_count": 30,
   "metadata": {},
   "outputs": [
    {
     "name": "stdout",
     "output_type": "stream",
     "text": [
      "call hackrf_sample_rate_set(20.000 MHz)\n",
      "call hackrf_baseband_filter_bandwidth_set(15.000 MHz)\n",
      "Sweeping from 88 MHz to 108 MHz\n",
      "Stop with Ctrl-C\n",
      "\n",
      "Exiting...\n",
      "Total sweeps: 10 in 0.05010 seconds (199.62 sweeps/second)\n",
      "hackrf_close() done\n",
      "hackrf_exit() done\n",
      "fclose() done\n",
      "exit\n"
     ]
    }
   ],
   "source": [
    "!hackrf_sweep -f 88:106 -N 10 -w 100000 -r ./data/n10f88-106.csv"
   ]
  },
  {
   "cell_type": "code",
   "execution_count": 10,
   "metadata": {},
   "outputs": [
    {
     "name": "stdout",
     "output_type": "stream",
     "text": [
      "specify one of: -t, -c, -r, -w\n",
      "Usage:\n",
      "\t-h # this help\n",
      "\t[-d serial_number] # Serial number of desired HackRF.\n",
      "\t-r <filename> # Receive data into file (use '-' for stdout).\n",
      "\t-t <filename> # Transmit data from file (use '-' for stdin).\n",
      "\t-w # Receive data into file with WAV header and automatic name.\n",
      "\t   # This is for SDR# compatibility and may not work with other software.\n",
      "\t[-f freq_hz] # Frequency in Hz [1MHz to 6000MHz supported, 0MHz to 7250MHz forceable].\n",
      "\t[-i if_freq_hz] # Intermediate Frequency (IF) in Hz [2170MHz to 2740MHz supported, 2000MHz to 3000MHz forceable].\n",
      "\t[-o lo_freq_hz] # Front-end Local Oscillator (LO) frequency in Hz [84MHz to 5400MHz].\n",
      "\t[-m image_reject] # Image rejection filter selection, 0=bypass, 1=low pass, 2=high pass.\n",
      "\t[-a amp_enable] # RX/TX RF amplifier 1=Enable, 0=Disable.\n",
      "\t[-p antenna_enable] # Antenna port power, 1=Enable, 0=Disable.\n",
      "\t[-l gain_db] # RX LNA (IF) gain, 0-40dB, 8dB steps\n",
      "\t[-g gain_db] # RX VGA (baseband) gain, 0-62dB, 2dB steps\n",
      "\t[-x gain_db] # TX VGA (IF) gain, 0-47dB, 1dB steps\n",
      "\t[-s sample_rate_hz] # Sample rate in Hz (2-20MHz supported, default 10MHz).\n",
      "\t[-F force] # Force use of parameters outside supported ranges.\n",
      "\t[-n num_samples] # Number of samples to transfer (default is unlimited).\n",
      "\t[-S buf_size] # Enable receive streaming with buffer size buf_size.\n",
      "\t[-B] # Print buffer statistics during transfer\n",
      "\t[-c amplitude] # CW signal source mode, amplitude 0-127 (DC value to DAC).\n",
      "\t[-R] # Repeat TX mode (default is off) \n",
      "\t[-b baseband_filter_bw_hz] # Set baseband filter bandwidth in Hz.\n",
      "\tPossible values: 1.75/2.5/3.5/5/5.5/6/7/8/9/10/12/14/15/20/24/28MHz, default <= 0.75 * sample_rate_hz.\n",
      "\t[-C ppm] # Set Internal crystal clock error in ppm.\n",
      "\t[-H] # Synchronize RX/TX to external trigger input.\n"
     ]
    }
   ],
   "source": [
    "!hackrf_transfer"
   ]
  },
  {
   "cell_type": "code",
   "execution_count": 19,
   "metadata": {},
   "outputs": [
    {
     "name": "stdout",
     "output_type": "stream",
     "text": [
      "Receive wav file: HackRF_20240812_222438Z_91100kHz_IQ.wav\n",
      "call hackrf_set_sample_rate(10000000 Hz/10.000 MHz)\n",
      "call hackrf_set_hw_sync_mode(0)\n",
      "call hackrf_set_freq(91100000 Hz/91.100 MHz)\n",
      "samples_to_xfer 100/0Mio\n",
      "Stop with Ctrl-C\n",
      " 0.3 MiB / 0.014 sec = 19.2 MiB/second, average power -34.4 dBfs\n",
      "\n",
      "Exiting...\n",
      "Total time: 0.01366 s\n",
      "hackrf_stop_rx() done\n",
      "hackrf_close() done\n",
      "hackrf_exit() done\n",
      "fclose() done\n",
      "exit\n"
     ]
    }
   ],
   "source": [
    "!hackrf_transfer -f 91100000 -w -n 100"
   ]
  }
 ],
 "metadata": {
  "kernelspec": {
   "display_name": ".venv",
   "language": "python",
   "name": "python3"
  },
  "language_info": {
   "codemirror_mode": {
    "name": "ipython",
    "version": 3
   },
   "file_extension": ".py",
   "mimetype": "text/x-python",
   "name": "python",
   "nbconvert_exporter": "python",
   "pygments_lexer": "ipython3",
   "version": "3.12.3"
  }
 },
 "nbformat": 4,
 "nbformat_minor": 2
}
